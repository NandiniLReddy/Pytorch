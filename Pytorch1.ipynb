{
  "nbformat": 4,
  "nbformat_minor": 0,
  "metadata": {
    "colab": {
      "provenance": [],
      "authorship_tag": "ABX9TyN3sFZo7Ea390ww13ULYgmY",
      "include_colab_link": true
    },
    "kernelspec": {
      "name": "python3",
      "display_name": "Python 3"
    },
    "language_info": {
      "name": "python"
    }
  },
  "cells": [
    {
      "cell_type": "markdown",
      "metadata": {
        "id": "view-in-github",
        "colab_type": "text"
      },
      "source": [
        "<a href=\"https://colab.research.google.com/github/NandiniLReddy/Pytorch/blob/main/Pytorch1.ipynb\" target=\"_parent\"><img src=\"https://colab.research.google.com/assets/colab-badge.svg\" alt=\"Open In Colab\"/></a>"
      ]
    },
    {
      "cell_type": "markdown",
      "source": [
        "# PyTorch Basics By Nandini Lokesh Reddy"
      ],
      "metadata": {
        "id": "iS91_xVoU302"
      }
    },
    {
      "cell_type": "markdown",
      "source": [
        "## creating a empty tensor"
      ],
      "metadata": {
        "id": "Mv0XxZdTVcch"
      }
    },
    {
      "cell_type": "markdown",
      "source": [
        "## Scalar"
      ],
      "metadata": {
        "id": "bN-s2i-9WNkQ"
      }
    },
    {
      "cell_type": "code",
      "source": [
        "x1 = torch.empty(1) # 1 is the size, here 1 can be a scalar value"
      ],
      "metadata": {
        "id": "NkRlMWr9VNIE"
      },
      "execution_count": null,
      "outputs": []
    },
    {
      "cell_type": "code",
      "source": [
        "print(x1) #output is the size allocated"
      ],
      "metadata": {
        "colab": {
          "base_uri": "https://localhost:8080/"
        },
        "id": "R2bw4nNaVg6T",
        "outputId": "f5ebab58-071c-4569-afc6-aaa35cd39e46"
      },
      "execution_count": null,
      "outputs": [
        {
          "output_type": "stream",
          "name": "stdout",
          "text": [
            "tensor([-120.3074])\n"
          ]
        }
      ]
    },
    {
      "cell_type": "markdown",
      "source": [
        "## Vector"
      ],
      "metadata": {
        "id": "-pRKUI2iWP6A"
      }
    },
    {
      "cell_type": "code",
      "source": [
        "x2 = torch.empty(3) # 3 is the size, here 3 is 1D vector  [,,]"
      ],
      "metadata": {
        "id": "P_5cXQ2VVof1"
      },
      "execution_count": null,
      "outputs": []
    },
    {
      "cell_type": "code",
      "source": [
        "print(x2)"
      ],
      "metadata": {
        "colab": {
          "base_uri": "https://localhost:8080/"
        },
        "id": "I1OTTk4sV1ou",
        "outputId": "164a70fd-7f76-4475-e57a-f2c8eed004fe"
      },
      "execution_count": null,
      "outputs": [
        {
          "output_type": "stream",
          "name": "stdout",
          "text": [
            "tensor([-1.2031e+02,  4.4518e-41, -3.3191e-17])\n"
          ]
        }
      ]
    },
    {
      "cell_type": "markdown",
      "source": [
        "## Matrix\n",
        "\n",
        "2D, 3D, ............. Multi-Dimentional"
      ],
      "metadata": {
        "id": "KHHb_TY8WRYo"
      }
    },
    {
      "cell_type": "code",
      "source": [
        "x3 = torch.empty(2,3) #(2,3) is the 2D matrix"
      ],
      "metadata": {
        "id": "ZcMl4sz9V3C-"
      },
      "execution_count": null,
      "outputs": []
    },
    {
      "cell_type": "code",
      "source": [
        "print(x3)"
      ],
      "metadata": {
        "colab": {
          "base_uri": "https://localhost:8080/"
        },
        "id": "kg9wxT5qWJpA",
        "outputId": "2ca61e65-7f4b-4e5d-96b6-e7ba883460c4"
      },
      "execution_count": null,
      "outputs": [
        {
          "output_type": "stream",
          "name": "stdout",
          "text": [
            "tensor([[-7.7054e+05,  3.1149e-41,  0.0000e+00],\n",
            "        [ 1.1755e-38, -3.9553e-20,  3.1142e-41]])\n"
          ]
        }
      ]
    },
    {
      "cell_type": "code",
      "source": [
        "x4 = torch.empty(2,4,3) #(2,4,3) is the 3D matrix"
      ],
      "metadata": {
        "id": "l9C5On2zWLxX"
      },
      "execution_count": null,
      "outputs": []
    },
    {
      "cell_type": "code",
      "source": [
        "print(x4)"
      ],
      "metadata": {
        "colab": {
          "base_uri": "https://localhost:8080/"
        },
        "id": "W3yt0qVpWbrA",
        "outputId": "b0b9af7b-9888-41fe-9b74-26f1b96045ac"
      },
      "execution_count": null,
      "outputs": [
        {
          "output_type": "stream",
          "name": "stdout",
          "text": [
            "tensor([[[-6.5884e+05,  3.1149e-41,  1.4013e-45],\n",
            "         [ 0.0000e+00,  0.0000e+00,  0.0000e+00],\n",
            "         [ 1.4013e-45,  0.0000e+00,  1.4013e-45],\n",
            "         [ 0.0000e+00,  1.4013e-45,  0.0000e+00]],\n",
            "\n",
            "        [[ 1.3452e-43,  0.0000e+00,  1.1210e-43],\n",
            "         [ 0.0000e+00, -7.8569e+05,  3.1149e-41],\n",
            "         [ 0.0000e+00,  0.0000e+00,  0.0000e+00],\n",
            "         [ 0.0000e+00,  0.0000e+00,  0.0000e+00]]])\n"
          ]
        }
      ]
    },
    {
      "cell_type": "markdown",
      "source": [
        "## creating a tensor with random values"
      ],
      "metadata": {
        "id": "0tnXUu8oW1dS"
      }
    },
    {
      "cell_type": "code",
      "source": [
        "r1=torch.rand(3)\n",
        "print(r1)"
      ],
      "metadata": {
        "colab": {
          "base_uri": "https://localhost:8080/"
        },
        "id": "qXUvQBKSWdCQ",
        "outputId": "44acc960-51db-4d68-f156-803d4ed20de5"
      },
      "execution_count": null,
      "outputs": [
        {
          "output_type": "stream",
          "name": "stdout",
          "text": [
            "tensor([0.8963, 0.3423, 0.7835])\n"
          ]
        }
      ]
    },
    {
      "cell_type": "code",
      "source": [
        "r2=torch.rand(2,3)\n",
        "print(r2)"
      ],
      "metadata": {
        "colab": {
          "base_uri": "https://localhost:8080/"
        },
        "id": "2uc0fR3nW8JD",
        "outputId": "c3f7dcb1-6f04-4a16-b2d9-9e8cb4f5b40c"
      },
      "execution_count": null,
      "outputs": [
        {
          "output_type": "stream",
          "name": "stdout",
          "text": [
            "tensor([[0.2328, 0.3284, 0.6247],\n",
            "        [0.0986, 0.0164, 0.4179]])\n"
          ]
        }
      ]
    },
    {
      "cell_type": "markdown",
      "source": [
        "## like numpy we can do certain operations like:"
      ],
      "metadata": {
        "id": "d20O_kqZXPDU"
      }
    },
    {
      "cell_type": "code",
      "source": [
        "z = torch.zeros(2,3)\n",
        "print(z)"
      ],
      "metadata": {
        "colab": {
          "base_uri": "https://localhost:8080/"
        },
        "id": "pIDSmBQHXEqz",
        "outputId": "ebc52e77-e658-49df-8fe5-754853c38d10"
      },
      "execution_count": null,
      "outputs": [
        {
          "output_type": "stream",
          "name": "stdout",
          "text": [
            "tensor([[0., 0., 0.],\n",
            "        [0., 0., 0.]])\n"
          ]
        }
      ]
    },
    {
      "cell_type": "code",
      "source": [
        "z1=torch.ones(2,3)\n",
        "print(z1)"
      ],
      "metadata": {
        "colab": {
          "base_uri": "https://localhost:8080/"
        },
        "id": "ty69KFvXXUrl",
        "outputId": "ce67d406-cedc-43b7-e2f3-6c041edc9c2c"
      },
      "execution_count": null,
      "outputs": [
        {
          "output_type": "stream",
          "name": "stdout",
          "text": [
            "tensor([[1., 1., 1.],\n",
            "        [1., 1., 1.]])\n"
          ]
        }
      ]
    },
    {
      "cell_type": "markdown",
      "source": [
        "## torch datatypes"
      ],
      "metadata": {
        "id": "Fub5ONhHXoXy"
      }
    },
    {
      "cell_type": "code",
      "source": [
        "d1 = torch.rand(3) # default datatype is float32\n",
        "print(d1.dtype)"
      ],
      "metadata": {
        "colab": {
          "base_uri": "https://localhost:8080/"
        },
        "id": "umh-PAl5Xeos",
        "outputId": "6ebcbb99-a09c-4684-d5db-80720299ca90"
      },
      "execution_count": null,
      "outputs": [
        {
          "output_type": "stream",
          "name": "stdout",
          "text": [
            "torch.float32\n"
          ]
        }
      ]
    },
    {
      "cell_type": "code",
      "source": [
        "# we can initalize the dtype required as well\n",
        "d2 =  torch.ones(4, dtype=torch.int)\n",
        "print(d2)"
      ],
      "metadata": {
        "colab": {
          "base_uri": "https://localhost:8080/"
        },
        "id": "djHbmkEDXyXC",
        "outputId": "b786eb09-a1d2-4bfd-dc64-4e75f1deb490"
      },
      "execution_count": null,
      "outputs": [
        {
          "output_type": "stream",
          "name": "stdout",
          "text": [
            "tensor([1, 1, 1, 1], dtype=torch.int32)\n"
          ]
        }
      ]
    },
    {
      "cell_type": "code",
      "source": [
        "#rand is only used for float type\n",
        "\n",
        "d3 = torch.rand(3, dtype=torch.double)\n",
        "print(d3)"
      ],
      "metadata": {
        "colab": {
          "base_uri": "https://localhost:8080/"
        },
        "id": "lwxxYhrtYBU1",
        "outputId": "4e155ec1-8a9e-49de-acfd-d93b0ad155d6"
      },
      "execution_count": null,
      "outputs": [
        {
          "output_type": "stream",
          "name": "stdout",
          "text": [
            "tensor([0.8411, 0.9982, 0.8172], dtype=torch.float64)\n"
          ]
        }
      ]
    },
    {
      "cell_type": "code",
      "source": [
        "# you can use randint for integers\n",
        "d4 = torch.randint(5,10, (2,3))\n",
        "print(d4.dtype)\n",
        "print(d4)"
      ],
      "metadata": {
        "colab": {
          "base_uri": "https://localhost:8080/"
        },
        "id": "4_YEhhE0Ymi1",
        "outputId": "b1fdf77a-afc6-49bc-f10c-e9ef3b0f02da"
      },
      "execution_count": null,
      "outputs": [
        {
          "output_type": "stream",
          "name": "stdout",
          "text": [
            "torch.int64\n",
            "tensor([[7, 6, 5],\n",
            "        [5, 6, 5]])\n"
          ]
        }
      ]
    },
    {
      "cell_type": "code",
      "source": [
        "# we can also create tensors using list\n",
        "\n",
        "l1 = torch.tensor([0.1,0.2])\n",
        "print(l1)"
      ],
      "metadata": {
        "colab": {
          "base_uri": "https://localhost:8080/"
        },
        "id": "Ma0wco7kYveu",
        "outputId": "7b640126-71c0-43bb-a5de-2f6282c954f0"
      },
      "execution_count": null,
      "outputs": [
        {
          "output_type": "stream",
          "name": "stdout",
          "text": [
            "tensor([0.1000, 0.2000])\n"
          ]
        }
      ]
    },
    {
      "cell_type": "markdown",
      "source": [
        "## Basic operations"
      ],
      "metadata": {
        "id": "ct-7rBd0Zq5n"
      }
    },
    {
      "cell_type": "code",
      "source": [
        "a1 = torch.rand(2,2)\n",
        "a2= torch.rand(2,2)\n",
        "add = a1 + a2\n",
        "# add = torch.add(a1,a2) #does the same as '+'\n",
        "print(a1)\n",
        "print(a2)\n",
        "print(add)"
      ],
      "metadata": {
        "colab": {
          "base_uri": "https://localhost:8080/"
        },
        "id": "bsg2R3P_ZYee",
        "outputId": "009b1e53-7edf-4b00-e642-a282fd9ccae0"
      },
      "execution_count": null,
      "outputs": [
        {
          "output_type": "stream",
          "name": "stdout",
          "text": [
            "tensor([[0.5912, 0.8287],\n",
            "        [0.0109, 0.0486]])\n",
            "tensor([[0.7840, 0.2652],\n",
            "        [0.8950, 0.7441]])\n",
            "tensor([[1.3752, 1.0940],\n",
            "        [0.9059, 0.7927]])\n"
          ]
        }
      ]
    },
    {
      "cell_type": "code",
      "source": [
        "#inplace addition\n",
        "a2.add_(a1) #values of a2 will be replaced with the result of addition operation\n",
        "# print(a1)\n",
        "print(a2)"
      ],
      "metadata": {
        "colab": {
          "base_uri": "https://localhost:8080/"
        },
        "id": "2M-inX_8aSEu",
        "outputId": "cf2e9996-eb51-4746-b035-28ef337ddb98"
      },
      "execution_count": null,
      "outputs": [
        {
          "output_type": "stream",
          "name": "stdout",
          "text": [
            "tensor([[2.9708, 0.4933],\n",
            "        [1.9178, 2.7999]])\n"
          ]
        }
      ]
    },
    {
      "cell_type": "markdown",
      "source": [
        "for any function is there is '_' tailing then it is inplace operation"
      ],
      "metadata": {
        "id": "p6SSXrkUctmN"
      }
    },
    {
      "cell_type": "code",
      "source": [
        "sub = torch.sub(a1,a2) #does the same as '+'\n",
        "print(a1)\n",
        "print(a2)\n",
        "print(sub)"
      ],
      "metadata": {
        "colab": {
          "base_uri": "https://localhost:8080/"
        },
        "id": "9kJjQhFCa3Ow",
        "outputId": "db4b519a-3f1d-4d1f-f792-7313d9deb9be"
      },
      "execution_count": null,
      "outputs": [
        {
          "output_type": "stream",
          "name": "stdout",
          "text": [
            "tensor([[0.5912, 0.8287],\n",
            "        [0.0109, 0.0486]])\n",
            "tensor([[0.7840, 0.2652],\n",
            "        [0.8950, 0.7441]])\n",
            "tensor([[-0.1928,  0.5635],\n",
            "        [-0.8841, -0.6955]])\n"
          ]
        }
      ]
    },
    {
      "cell_type": "code",
      "source": [
        "mul = torch.mul(a1,a2)\n",
        "print(a1)\n",
        "print(a2)\n",
        "print(mul)"
      ],
      "metadata": {
        "colab": {
          "base_uri": "https://localhost:8080/"
        },
        "id": "9DzCCJqpdAlV",
        "outputId": "e02e4e4d-102b-488f-a48d-5f97f617ebf9"
      },
      "execution_count": null,
      "outputs": [
        {
          "output_type": "stream",
          "name": "stdout",
          "text": [
            "tensor([[0.5912, 0.8287],\n",
            "        [0.0109, 0.0486]])\n",
            "tensor([[0.7840, 0.2652],\n",
            "        [0.8950, 0.7441]])\n",
            "tensor([[0.4635, 0.2198],\n",
            "        [0.0097, 0.0362]])\n"
          ]
        }
      ]
    },
    {
      "cell_type": "code",
      "source": [
        "div = torch.div(a1,a2)\n",
        "print(a1)\n",
        "print(a2)\n",
        "print(div)"
      ],
      "metadata": {
        "colab": {
          "base_uri": "https://localhost:8080/"
        },
        "id": "tQlHgcQzdNuU",
        "outputId": "81f771c5-8172-4c5d-b078-18265850b097"
      },
      "execution_count": null,
      "outputs": [
        {
          "output_type": "stream",
          "name": "stdout",
          "text": [
            "tensor([[0.5912, 0.8287],\n",
            "        [0.0109, 0.0486]])\n",
            "tensor([[0.7840, 0.2652],\n",
            "        [0.8950, 0.7441]])\n",
            "tensor([[0.7541, 3.1248],\n",
            "        [0.0122, 0.0653]])\n"
          ]
        }
      ]
    },
    {
      "cell_type": "markdown",
      "source": [
        "## Slicing"
      ],
      "metadata": {
        "id": "ZL_RlalQdfMs"
      }
    },
    {
      "cell_type": "code",
      "source": [
        "import torch\n",
        "x=torch.rand(5,3) #all rows and 0th colum values only\n",
        "print(x)\n",
        "print(x[:,0])"
      ],
      "metadata": {
        "id": "1vzxAK3CdZ3E",
        "colab": {
          "base_uri": "https://localhost:8080/"
        },
        "outputId": "542e1bd2-deb2-4ff6-d9de-7eeab9ef6ba8"
      },
      "execution_count": 3,
      "outputs": [
        {
          "output_type": "stream",
          "name": "stdout",
          "text": [
            "tensor([[0.6289, 0.5163, 0.4372],\n",
            "        [0.9098, 0.2220, 0.8335],\n",
            "        [0.6283, 0.8015, 0.4811],\n",
            "        [0.0612, 0.3719, 0.0141],\n",
            "        [0.9557, 0.8695, 0.2142]])\n",
            "tensor([0.6289, 0.9098, 0.6283, 0.0612, 0.9557])\n"
          ]
        }
      ]
    },
    {
      "cell_type": "code",
      "source": [
        "print(x) #all columns and 1st row values only\n",
        "print(x[1,:])"
      ],
      "metadata": {
        "colab": {
          "base_uri": "https://localhost:8080/"
        },
        "id": "UNkjuJ3eXybW",
        "outputId": "2a21d3d3-476e-4b1b-97bc-0091e1e9f8c2"
      },
      "execution_count": 5,
      "outputs": [
        {
          "output_type": "stream",
          "name": "stdout",
          "text": [
            "tensor([[0.6289, 0.5163, 0.4372],\n",
            "        [0.9098, 0.2220, 0.8335],\n",
            "        [0.6283, 0.8015, 0.4811],\n",
            "        [0.0612, 0.3719, 0.0141],\n",
            "        [0.9557, 0.8695, 0.2142]])\n",
            "tensor([0.9098, 0.2220, 0.8335])\n"
          ]
        }
      ]
    },
    {
      "cell_type": "code",
      "source": [
        "#to get the acutal value.[full value]\n",
        "print(x[2,2].item())"
      ],
      "metadata": {
        "colab": {
          "base_uri": "https://localhost:8080/"
        },
        "id": "7QgoqpsiYHTA",
        "outputId": "a4eaf7a6-6c89-47ae-8b66-0070ff30b5b1"
      },
      "execution_count": 6,
      "outputs": [
        {
          "output_type": "stream",
          "name": "stdout",
          "text": [
            "0.48107820749282837\n"
          ]
        }
      ]
    },
    {
      "cell_type": "markdown",
      "source": [
        "# R![Screenshot 2024-06-08 at 7.23.45 AM.png](data:image/png;base64,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)eshape"
      ],
      "metadata": {
        "id": "rnbgp5YHYjwx"
      }
    },
    {
      "cell_type": "code",
      "source": [
        " x=torch.rand(4,4)\n",
        " print(x)\n",
        " y=x.view(16)\n",
        " print(y)\n",
        " print(y.size())"
      ],
      "metadata": {
        "colab": {
          "base_uri": "https://localhost:8080/"
        },
        "id": "sh-IfjG7YctY",
        "outputId": "6378bb68-4363-4d5b-dacc-b35ba44c3de3"
      },
      "execution_count": 9,
      "outputs": [
        {
          "output_type": "stream",
          "name": "stdout",
          "text": [
            "tensor([[0.0304, 0.5963, 0.0673, 0.4444],\n",
            "        [0.0438, 0.2415, 0.4311, 0.9283],\n",
            "        [0.2735, 0.6668, 0.5814, 0.5218],\n",
            "        [0.6363, 0.8757, 0.4805, 0.0964]])\n",
            "tensor([0.0304, 0.5963, 0.0673, 0.4444, 0.0438, 0.2415, 0.4311, 0.9283, 0.2735,\n",
            "        0.6668, 0.5814, 0.5218, 0.6363, 0.8757, 0.4805, 0.0964])\n",
            "torch.Size([16])\n"
          ]
        }
      ]
    },
    {
      "cell_type": "code",
      "source": [
        "# you can add -1, to let pytorch determine the size based on the given one vlaue\n",
        "y=x.view(-1,8)\n",
        "print(y)\n",
        "print(y.size())"
      ],
      "metadata": {
        "colab": {
          "base_uri": "https://localhost:8080/"
        },
        "id": "bDjAasc0aFys",
        "outputId": "52bb969f-ac61-4e1b-f3e6-6d03bc7fa13f"
      },
      "execution_count": 12,
      "outputs": [
        {
          "output_type": "stream",
          "name": "stdout",
          "text": [
            "tensor([[0.0304, 0.5963, 0.0673, 0.4444, 0.0438, 0.2415, 0.4311, 0.9283],\n",
            "        [0.2735, 0.6668, 0.5814, 0.5218, 0.6363, 0.8757, 0.4805, 0.0964]])\n",
            "torch.Size([2, 8])\n"
          ]
        }
      ]
    },
    {
      "cell_type": "markdown",
      "source": [
        "# Numpy to torch tensor"
      ],
      "metadata": {
        "id": "5kW3aeqLadeT"
      }
    },
    {
      "cell_type": "code",
      "source": [
        "import numpy as np\n",
        "a= torch.ones(5)\n",
        "print(a)\n",
        "b=a.numpy()\n",
        "print(b)\n",
        "print(type(b))"
      ],
      "metadata": {
        "colab": {
          "base_uri": "https://localhost:8080/"
        },
        "id": "iMX1fvtXaWLR",
        "outputId": "5c814961-11dc-4cbd-8b70-87ba8752d98d"
      },
      "execution_count": 17,
      "outputs": [
        {
          "output_type": "stream",
          "name": "stdout",
          "text": [
            "tensor([1., 1., 1., 1., 1.])\n",
            "[1. 1. 1. 1. 1.]\n",
            "<class 'numpy.ndarray'>\n"
          ]
        }
      ]
    },
    {
      "cell_type": "markdown",
      "source": [
        "#### if the tensor is in cpu, and we modify in gpu; then it also changes in the cpu as both GPU and CPU share the same memory"
      ],
      "metadata": {
        "id": "W3IdavJRbbyu"
      }
    },
    {
      "cell_type": "code",
      "source": [
        "a.add_(1)\n",
        "print(a) # you can see how b is also changed\n",
        "print(b)"
      ],
      "metadata": {
        "colab": {
          "base_uri": "https://localhost:8080/"
        },
        "id": "Bj3T5wERbMJv",
        "outputId": "900114c3-a4cf-40a5-829b-61ad1773d225"
      },
      "execution_count": 19,
      "outputs": [
        {
          "output_type": "stream",
          "name": "stdout",
          "text": [
            "tensor([3., 3., 3., 3., 3.])\n",
            "[3. 3. 3. 3. 3.]\n"
          ]
        }
      ]
    },
    {
      "cell_type": "code",
      "source": [
        "a= np.ones(5)\n",
        "print(a)\n",
        "b=torch.from_numpy(a)\n",
        "print(b)"
      ],
      "metadata": {
        "colab": {
          "base_uri": "https://localhost:8080/"
        },
        "id": "C7UwlB-UbwiJ",
        "outputId": "a9fc12f7-e06e-41a7-ba8f-3c618fc928bf"
      },
      "execution_count": 20,
      "outputs": [
        {
          "output_type": "stream",
          "name": "stdout",
          "text": [
            "[1. 1. 1. 1. 1.]\n",
            "tensor([1., 1., 1., 1., 1.], dtype=torch.float64)\n"
          ]
        }
      ]
    },
    {
      "cell_type": "markdown",
      "source": [
        "#### we cannot convert gpu tensor to numpy"
      ],
      "metadata": {
        "id": "-WYzJbsKckKz"
      }
    },
    {
      "cell_type": "markdown",
      "source": [
        "# Gradients"
      ],
      "metadata": {
        "id": "iutKfudefcN8"
      }
    },
    {
      "cell_type": "markdown",
      "source": [
        "## add picture"
      ],
      "metadata": {
        "id": "eM1jexDNl8Yd"
      }
    },
    {
      "cell_type": "code",
      "source": [
        "x = torch.randn(5, requires_grad=True)\n",
        "print(x)"
      ],
      "metadata": {
        "colab": {
          "base_uri": "https://localhost:8080/"
        },
        "id": "3x_ywMf4cDNi",
        "outputId": "51bf26fe-810a-4b2d-e1c1-6c2d94a357ae"
      },
      "execution_count": 24,
      "outputs": [
        {
          "output_type": "stream",
          "name": "stdout",
          "text": [
            "tensor([-0.9819, -0.8400, -0.6683,  0.7174,  1.2650], requires_grad=True)\n"
          ]
        }
      ]
    },
    {
      "cell_type": "code",
      "source": [
        "y = x+2\n",
        "print(y)"
      ],
      "metadata": {
        "colab": {
          "base_uri": "https://localhost:8080/"
        },
        "id": "fXqom-nHm8vz",
        "outputId": "1f489763-9a45-4673-9fb7-a71052ad5368"
      },
      "execution_count": 25,
      "outputs": [
        {
          "output_type": "stream",
          "name": "stdout",
          "text": [
            "tensor([1.0181, 1.1600, 1.3317, 2.7174, 3.2650], grad_fn=<AddBackward0>)\n"
          ]
        }
      ]
    },
    {
      "cell_type": "code",
      "source": [
        "z = y*y*2\n",
        "print(z)"
      ],
      "metadata": {
        "colab": {
          "base_uri": "https://localhost:8080/"
        },
        "id": "hku_mqOYm_RD",
        "outputId": "33e0e5bc-18e7-4700-84a9-5dd232f5d926"
      },
      "execution_count": 26,
      "outputs": [
        {
          "output_type": "stream",
          "name": "stdout",
          "text": [
            "tensor([ 2.0732,  2.6913,  3.5471, 14.7685, 21.3207], grad_fn=<MulBackward0>)\n"
          ]
        }
      ]
    },
    {
      "cell_type": "code",
      "source": [
        "z = z.mean()\n",
        "print(z)"
      ],
      "metadata": {
        "colab": {
          "base_uri": "https://localhost:8080/"
        },
        "id": "onP9FAUFnNf3",
        "outputId": "d8417246-3910-4c5d-96ed-04f5bf626863"
      },
      "execution_count": 28,
      "outputs": [
        {
          "output_type": "stream",
          "name": "stdout",
          "text": [
            "tensor(8.8801, grad_fn=<MeanBackward0>)\n"
          ]
        }
      ]
    },
    {
      "cell_type": "markdown",
      "source": [
        "## ADD PICTURE"
      ],
      "metadata": {
        "id": "66e0xIz6rHkI"
      }
    },
    {
      "cell_type": "code",
      "source": [
        "z.backward() #dz/dx\n",
        "print(x.grad)"
      ],
      "metadata": {
        "colab": {
          "base_uri": "https://localhost:8080/"
        },
        "id": "PKK6G0oqnVWT",
        "outputId": "b26bd36f-d542-4df2-cd6a-bba1172df7f7"
      },
      "execution_count": 29,
      "outputs": [
        {
          "output_type": "stream",
          "name": "stdout",
          "text": [
            "tensor([0.8145, 0.9280, 1.0654, 2.1739, 2.6120])\n"
          ]
        }
      ]
    },
    {
      "cell_type": "markdown",
      "source": [
        "### Updating weights --> this should not be a part of gradient computation\n",
        "\n",
        "### preventing treking gradients\n"
      ],
      "metadata": {
        "id": "UJkXeldStVIe"
      }
    },
    {
      "cell_type": "code",
      "source": [
        "x = torch.randn(5, requires_grad=True)\n",
        "print(x)\n",
        "#method-1\n",
        "# x.requires_grad_(False)\n",
        "# print(x)\n",
        "\n",
        "#method-2:\n",
        "# y= x.detach()\n",
        "# print(y)\n",
        "\n",
        "#method-3:\n",
        "\n",
        "with torch.no_grad():\n",
        "  y=x+2\n",
        "  print(y)"
      ],
      "metadata": {
        "colab": {
          "base_uri": "https://localhost:8080/"
        },
        "id": "YgyEjwuMnlJi",
        "outputId": "220cc884-3c19-4b82-f143-574c67b3538b"
      },
      "execution_count": 32,
      "outputs": [
        {
          "output_type": "stream",
          "name": "stdout",
          "text": [
            "tensor([-1.0491, -0.0724,  0.5296,  0.0088,  0.5517], requires_grad=True)\n",
            "tensor([0.9509, 1.9276, 2.5296, 2.0088, 2.5517])\n"
          ]
        }
      ]
    },
    {
      "cell_type": "markdown",
      "source": [
        "## dummy training"
      ],
      "metadata": {
        "id": "d489sGh1uqsD"
      }
    },
    {
      "cell_type": "code",
      "source": [
        "weights = torch.ones(4,requires_grad=True)\n",
        "\n",
        "for epoch in range(3):\n",
        "  model_output = (weights*3).sum()\n",
        "  model_output.backward()\n",
        "  print(weights.grad)\n",
        "\n",
        "  weights.grad.zero_() # to avoid accumulation of gradients\n"
      ],
      "metadata": {
        "colab": {
          "base_uri": "https://localhost:8080/"
        },
        "id": "CtT3BHDqu8xk",
        "outputId": "a9c3e01a-a2fa-4814-d1fd-a81d0594a72f"
      },
      "execution_count": 37,
      "outputs": [
        {
          "output_type": "stream",
          "name": "stdout",
          "text": [
            "tensor([3., 3., 3., 3.])\n",
            "tensor([3., 3., 3., 3.])\n",
            "tensor([3., 3., 3., 3.])\n"
          ]
        }
      ]
    },
    {
      "cell_type": "markdown",
      "source": [
        "## optimizer / optimization\n"
      ],
      "metadata": {
        "id": "Xh_4MfUZvSm8"
      }
    },
    {
      "cell_type": "code",
      "source": [
        "weights = torch.ones(4,requires_grad=True)\n",
        "#SGD --> Stochastic gradient descent\n",
        "optimizer = torch.optim.SGD([weights], lr=0.01)\n",
        "optimizer.step()\n",
        "optimizer.zero_grad()\n",
        "print(optimizer)\n"
      ],
      "metadata": {
        "colab": {
          "base_uri": "https://localhost:8080/"
        },
        "id": "rY6EHLeOvBGy",
        "outputId": "8450db52-bb18-4849-c81c-f59727b240a0"
      },
      "execution_count": 43,
      "outputs": [
        {
          "output_type": "stream",
          "name": "stdout",
          "text": [
            "SGD (\n",
            "Parameter Group 0\n",
            "    dampening: 0\n",
            "    differentiable: False\n",
            "    foreach: None\n",
            "    fused: None\n",
            "    lr: 0.01\n",
            "    maximize: False\n",
            "    momentum: 0\n",
            "    nesterov: False\n",
            "    weight_decay: 0\n",
            ")\n"
          ]
        }
      ]
    },
    {
      "cell_type": "markdown",
      "source": [
        "# Backpropagation"
      ],
      "metadata": {
        "id": "TcvlHMsrwbYl"
      }
    },
    {
      "cell_type": "code",
      "source": [],
      "metadata": {
        "id": "StOTSE86vsLA"
      },
      "execution_count": null,
      "outputs": []
    }
  ]
}