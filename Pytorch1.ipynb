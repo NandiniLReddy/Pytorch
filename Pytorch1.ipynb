{
  "nbformat": 4,
  "nbformat_minor": 0,
  "metadata": {
    "colab": {
      "provenance": [],
      "authorship_tag": "ABX9TyOqrvlzaaZMUO6fNB9KcrkT",
      "include_colab_link": true
    },
    "kernelspec": {
      "name": "python3",
      "display_name": "Python 3"
    },
    "language_info": {
      "name": "python"
    }
  },
  "cells": [
    {
      "cell_type": "markdown",
      "metadata": {
        "id": "view-in-github",
        "colab_type": "text"
      },
      "source": [
        "<a href=\"https://colab.research.google.com/github/NandiniLReddy/Pytorch/blob/main/Pytorch1.ipynb\" target=\"_parent\"><img src=\"https://colab.research.google.com/assets/colab-badge.svg\" alt=\"Open In Colab\"/></a>"
      ]
    },
    {
      "cell_type": "markdown",
      "source": [
        "# PyTorch Basics By Nandini Lokesh Reddy"
      ],
      "metadata": {
        "id": "iS91_xVoU302"
      }
    },
    {
      "cell_type": "markdown",
      "source": [
        "## creating a empty tensor"
      ],
      "metadata": {
        "id": "Mv0XxZdTVcch"
      }
    },
    {
      "cell_type": "markdown",
      "source": [
        "## Scalar"
      ],
      "metadata": {
        "id": "bN-s2i-9WNkQ"
      }
    },
    {
      "cell_type": "code",
      "source": [
        "x1 = torch.empty(1) # 1 is the size, here 1 can be a scalar value"
      ],
      "metadata": {
        "id": "NkRlMWr9VNIE"
      },
      "execution_count": null,
      "outputs": []
    },
    {
      "cell_type": "code",
      "source": [
        "print(x1) #output is the size allocated"
      ],
      "metadata": {
        "colab": {
          "base_uri": "https://localhost:8080/"
        },
        "id": "R2bw4nNaVg6T",
        "outputId": "f5ebab58-071c-4569-afc6-aaa35cd39e46"
      },
      "execution_count": null,
      "outputs": [
        {
          "output_type": "stream",
          "name": "stdout",
          "text": [
            "tensor([-120.3074])\n"
          ]
        }
      ]
    },
    {
      "cell_type": "markdown",
      "source": [
        "## Vector"
      ],
      "metadata": {
        "id": "-pRKUI2iWP6A"
      }
    },
    {
      "cell_type": "code",
      "source": [
        "x2 = torch.empty(3) # 3 is the size, here 3 is 1D vector  [,,]"
      ],
      "metadata": {
        "id": "P_5cXQ2VVof1"
      },
      "execution_count": null,
      "outputs": []
    },
    {
      "cell_type": "code",
      "source": [
        "print(x2)"
      ],
      "metadata": {
        "colab": {
          "base_uri": "https://localhost:8080/"
        },
        "id": "I1OTTk4sV1ou",
        "outputId": "164a70fd-7f76-4475-e57a-f2c8eed004fe"
      },
      "execution_count": null,
      "outputs": [
        {
          "output_type": "stream",
          "name": "stdout",
          "text": [
            "tensor([-1.2031e+02,  4.4518e-41, -3.3191e-17])\n"
          ]
        }
      ]
    },
    {
      "cell_type": "markdown",
      "source": [
        "## Matrix\n",
        "\n",
        "2D, 3D, ............. Multi-Dimentional"
      ],
      "metadata": {
        "id": "KHHb_TY8WRYo"
      }
    },
    {
      "cell_type": "code",
      "source": [
        "x3 = torch.empty(2,3) #(2,3) is the 2D matrix"
      ],
      "metadata": {
        "id": "ZcMl4sz9V3C-"
      },
      "execution_count": null,
      "outputs": []
    },
    {
      "cell_type": "code",
      "source": [
        "print(x3)"
      ],
      "metadata": {
        "colab": {
          "base_uri": "https://localhost:8080/"
        },
        "id": "kg9wxT5qWJpA",
        "outputId": "2ca61e65-7f4b-4e5d-96b6-e7ba883460c4"
      },
      "execution_count": null,
      "outputs": [
        {
          "output_type": "stream",
          "name": "stdout",
          "text": [
            "tensor([[-7.7054e+05,  3.1149e-41,  0.0000e+00],\n",
            "        [ 1.1755e-38, -3.9553e-20,  3.1142e-41]])\n"
          ]
        }
      ]
    },
    {
      "cell_type": "code",
      "source": [
        "x4 = torch.empty(2,4,3) #(2,4,3) is the 3D matrix"
      ],
      "metadata": {
        "id": "l9C5On2zWLxX"
      },
      "execution_count": null,
      "outputs": []
    },
    {
      "cell_type": "code",
      "source": [
        "print(x4)"
      ],
      "metadata": {
        "colab": {
          "base_uri": "https://localhost:8080/"
        },
        "id": "W3yt0qVpWbrA",
        "outputId": "b0b9af7b-9888-41fe-9b74-26f1b96045ac"
      },
      "execution_count": null,
      "outputs": [
        {
          "output_type": "stream",
          "name": "stdout",
          "text": [
            "tensor([[[-6.5884e+05,  3.1149e-41,  1.4013e-45],\n",
            "         [ 0.0000e+00,  0.0000e+00,  0.0000e+00],\n",
            "         [ 1.4013e-45,  0.0000e+00,  1.4013e-45],\n",
            "         [ 0.0000e+00,  1.4013e-45,  0.0000e+00]],\n",
            "\n",
            "        [[ 1.3452e-43,  0.0000e+00,  1.1210e-43],\n",
            "         [ 0.0000e+00, -7.8569e+05,  3.1149e-41],\n",
            "         [ 0.0000e+00,  0.0000e+00,  0.0000e+00],\n",
            "         [ 0.0000e+00,  0.0000e+00,  0.0000e+00]]])\n"
          ]
        }
      ]
    },
    {
      "cell_type": "markdown",
      "source": [
        "## creating a tensor with random values"
      ],
      "metadata": {
        "id": "0tnXUu8oW1dS"
      }
    },
    {
      "cell_type": "code",
      "source": [
        "r1=torch.rand(3)\n",
        "print(r1)"
      ],
      "metadata": {
        "colab": {
          "base_uri": "https://localhost:8080/"
        },
        "id": "qXUvQBKSWdCQ",
        "outputId": "44acc960-51db-4d68-f156-803d4ed20de5"
      },
      "execution_count": null,
      "outputs": [
        {
          "output_type": "stream",
          "name": "stdout",
          "text": [
            "tensor([0.8963, 0.3423, 0.7835])\n"
          ]
        }
      ]
    },
    {
      "cell_type": "code",
      "source": [
        "r2=torch.rand(2,3)\n",
        "print(r2)"
      ],
      "metadata": {
        "colab": {
          "base_uri": "https://localhost:8080/"
        },
        "id": "2uc0fR3nW8JD",
        "outputId": "c3f7dcb1-6f04-4a16-b2d9-9e8cb4f5b40c"
      },
      "execution_count": null,
      "outputs": [
        {
          "output_type": "stream",
          "name": "stdout",
          "text": [
            "tensor([[0.2328, 0.3284, 0.6247],\n",
            "        [0.0986, 0.0164, 0.4179]])\n"
          ]
        }
      ]
    },
    {
      "cell_type": "markdown",
      "source": [
        "## like numpy we can do certain operations like:"
      ],
      "metadata": {
        "id": "d20O_kqZXPDU"
      }
    },
    {
      "cell_type": "code",
      "source": [
        "z = torch.zeros(2,3)\n",
        "print(z)"
      ],
      "metadata": {
        "colab": {
          "base_uri": "https://localhost:8080/"
        },
        "id": "pIDSmBQHXEqz",
        "outputId": "ebc52e77-e658-49df-8fe5-754853c38d10"
      },
      "execution_count": null,
      "outputs": [
        {
          "output_type": "stream",
          "name": "stdout",
          "text": [
            "tensor([[0., 0., 0.],\n",
            "        [0., 0., 0.]])\n"
          ]
        }
      ]
    },
    {
      "cell_type": "code",
      "source": [
        "z1=torch.ones(2,3)\n",
        "print(z1)"
      ],
      "metadata": {
        "colab": {
          "base_uri": "https://localhost:8080/"
        },
        "id": "ty69KFvXXUrl",
        "outputId": "ce67d406-cedc-43b7-e2f3-6c041edc9c2c"
      },
      "execution_count": null,
      "outputs": [
        {
          "output_type": "stream",
          "name": "stdout",
          "text": [
            "tensor([[1., 1., 1.],\n",
            "        [1., 1., 1.]])\n"
          ]
        }
      ]
    },
    {
      "cell_type": "markdown",
      "source": [
        "## torch datatypes"
      ],
      "metadata": {
        "id": "Fub5ONhHXoXy"
      }
    },
    {
      "cell_type": "code",
      "source": [
        "d1 = torch.rand(3) # default datatype is float32\n",
        "print(d1.dtype)"
      ],
      "metadata": {
        "colab": {
          "base_uri": "https://localhost:8080/"
        },
        "id": "umh-PAl5Xeos",
        "outputId": "6ebcbb99-a09c-4684-d5db-80720299ca90"
      },
      "execution_count": null,
      "outputs": [
        {
          "output_type": "stream",
          "name": "stdout",
          "text": [
            "torch.float32\n"
          ]
        }
      ]
    },
    {
      "cell_type": "code",
      "source": [
        "# we can initalize the dtype required as well\n",
        "d2 =  torch.ones(4, dtype=torch.int)\n",
        "print(d2)"
      ],
      "metadata": {
        "colab": {
          "base_uri": "https://localhost:8080/"
        },
        "id": "djHbmkEDXyXC",
        "outputId": "b786eb09-a1d2-4bfd-dc64-4e75f1deb490"
      },
      "execution_count": null,
      "outputs": [
        {
          "output_type": "stream",
          "name": "stdout",
          "text": [
            "tensor([1, 1, 1, 1], dtype=torch.int32)\n"
          ]
        }
      ]
    },
    {
      "cell_type": "code",
      "source": [
        "#rand is only used for float type\n",
        "\n",
        "d3 = torch.rand(3, dtype=torch.double)\n",
        "print(d3)"
      ],
      "metadata": {
        "colab": {
          "base_uri": "https://localhost:8080/"
        },
        "id": "lwxxYhrtYBU1",
        "outputId": "4e155ec1-8a9e-49de-acfd-d93b0ad155d6"
      },
      "execution_count": null,
      "outputs": [
        {
          "output_type": "stream",
          "name": "stdout",
          "text": [
            "tensor([0.8411, 0.9982, 0.8172], dtype=torch.float64)\n"
          ]
        }
      ]
    },
    {
      "cell_type": "code",
      "source": [
        "# you can use randint for integers\n",
        "d4 = torch.randint(5,10, (2,3))\n",
        "print(d4.dtype)\n",
        "print(d4)"
      ],
      "metadata": {
        "colab": {
          "base_uri": "https://localhost:8080/"
        },
        "id": "4_YEhhE0Ymi1",
        "outputId": "b1fdf77a-afc6-49bc-f10c-e9ef3b0f02da"
      },
      "execution_count": null,
      "outputs": [
        {
          "output_type": "stream",
          "name": "stdout",
          "text": [
            "torch.int64\n",
            "tensor([[7, 6, 5],\n",
            "        [5, 6, 5]])\n"
          ]
        }
      ]
    },
    {
      "cell_type": "code",
      "source": [
        "# we can also create tensors using list\n",
        "\n",
        "l1 = torch.tensor([0.1,0.2])\n",
        "print(l1)"
      ],
      "metadata": {
        "colab": {
          "base_uri": "https://localhost:8080/"
        },
        "id": "Ma0wco7kYveu",
        "outputId": "7b640126-71c0-43bb-a5de-2f6282c954f0"
      },
      "execution_count": null,
      "outputs": [
        {
          "output_type": "stream",
          "name": "stdout",
          "text": [
            "tensor([0.1000, 0.2000])\n"
          ]
        }
      ]
    },
    {
      "cell_type": "markdown",
      "source": [
        "## Basic operations"
      ],
      "metadata": {
        "id": "ct-7rBd0Zq5n"
      }
    },
    {
      "cell_type": "code",
      "source": [
        "a1 = torch.rand(2,2)\n",
        "a2= torch.rand(2,2)\n",
        "add = a1 + a2\n",
        "# add = torch.add(a1,a2) #does the same as '+'\n",
        "print(a1)\n",
        "print(a2)\n",
        "print(add)"
      ],
      "metadata": {
        "colab": {
          "base_uri": "https://localhost:8080/"
        },
        "id": "bsg2R3P_ZYee",
        "outputId": "009b1e53-7edf-4b00-e642-a282fd9ccae0"
      },
      "execution_count": null,
      "outputs": [
        {
          "output_type": "stream",
          "name": "stdout",
          "text": [
            "tensor([[0.5912, 0.8287],\n",
            "        [0.0109, 0.0486]])\n",
            "tensor([[0.7840, 0.2652],\n",
            "        [0.8950, 0.7441]])\n",
            "tensor([[1.3752, 1.0940],\n",
            "        [0.9059, 0.7927]])\n"
          ]
        }
      ]
    },
    {
      "cell_type": "code",
      "source": [
        "#inplace addition\n",
        "a2.add_(a1) #values of a2 will be replaced with the result of addition operation\n",
        "# print(a1)\n",
        "print(a2)"
      ],
      "metadata": {
        "colab": {
          "base_uri": "https://localhost:8080/"
        },
        "id": "2M-inX_8aSEu",
        "outputId": "cf2e9996-eb51-4746-b035-28ef337ddb98"
      },
      "execution_count": null,
      "outputs": [
        {
          "output_type": "stream",
          "name": "stdout",
          "text": [
            "tensor([[2.9708, 0.4933],\n",
            "        [1.9178, 2.7999]])\n"
          ]
        }
      ]
    },
    {
      "cell_type": "markdown",
      "source": [
        "for any function is there is '_' tailing then it is inplace operation"
      ],
      "metadata": {
        "id": "p6SSXrkUctmN"
      }
    },
    {
      "cell_type": "code",
      "source": [
        "sub = torch.sub(a1,a2) #does the same as '+'\n",
        "print(a1)\n",
        "print(a2)\n",
        "print(sub)"
      ],
      "metadata": {
        "colab": {
          "base_uri": "https://localhost:8080/"
        },
        "id": "9kJjQhFCa3Ow",
        "outputId": "db4b519a-3f1d-4d1f-f792-7313d9deb9be"
      },
      "execution_count": null,
      "outputs": [
        {
          "output_type": "stream",
          "name": "stdout",
          "text": [
            "tensor([[0.5912, 0.8287],\n",
            "        [0.0109, 0.0486]])\n",
            "tensor([[0.7840, 0.2652],\n",
            "        [0.8950, 0.7441]])\n",
            "tensor([[-0.1928,  0.5635],\n",
            "        [-0.8841, -0.6955]])\n"
          ]
        }
      ]
    },
    {
      "cell_type": "code",
      "source": [
        "mul = torch.mul(a1,a2)\n",
        "print(a1)\n",
        "print(a2)\n",
        "print(mul)"
      ],
      "metadata": {
        "colab": {
          "base_uri": "https://localhost:8080/"
        },
        "id": "9DzCCJqpdAlV",
        "outputId": "e02e4e4d-102b-488f-a48d-5f97f617ebf9"
      },
      "execution_count": null,
      "outputs": [
        {
          "output_type": "stream",
          "name": "stdout",
          "text": [
            "tensor([[0.5912, 0.8287],\n",
            "        [0.0109, 0.0486]])\n",
            "tensor([[0.7840, 0.2652],\n",
            "        [0.8950, 0.7441]])\n",
            "tensor([[0.4635, 0.2198],\n",
            "        [0.0097, 0.0362]])\n"
          ]
        }
      ]
    },
    {
      "cell_type": "code",
      "source": [
        "div = torch.div(a1,a2)\n",
        "print(a1)\n",
        "print(a2)\n",
        "print(div)"
      ],
      "metadata": {
        "colab": {
          "base_uri": "https://localhost:8080/"
        },
        "id": "tQlHgcQzdNuU",
        "outputId": "81f771c5-8172-4c5d-b078-18265850b097"
      },
      "execution_count": null,
      "outputs": [
        {
          "output_type": "stream",
          "name": "stdout",
          "text": [
            "tensor([[0.5912, 0.8287],\n",
            "        [0.0109, 0.0486]])\n",
            "tensor([[0.7840, 0.2652],\n",
            "        [0.8950, 0.7441]])\n",
            "tensor([[0.7541, 3.1248],\n",
            "        [0.0122, 0.0653]])\n"
          ]
        }
      ]
    },
    {
      "cell_type": "markdown",
      "source": [
        "## Slicing"
      ],
      "metadata": {
        "id": "ZL_RlalQdfMs"
      }
    },
    {
      "cell_type": "code",
      "source": [
        "import torch\n",
        "x=torch.rand(5,3) #all rows and 0th colum values only\n",
        "print(x)\n",
        "print(x[:,0])"
      ],
      "metadata": {
        "id": "1vzxAK3CdZ3E",
        "colab": {
          "base_uri": "https://localhost:8080/"
        },
        "outputId": "542e1bd2-deb2-4ff6-d9de-7eeab9ef6ba8"
      },
      "execution_count": 3,
      "outputs": [
        {
          "output_type": "stream",
          "name": "stdout",
          "text": [
            "tensor([[0.6289, 0.5163, 0.4372],\n",
            "        [0.9098, 0.2220, 0.8335],\n",
            "        [0.6283, 0.8015, 0.4811],\n",
            "        [0.0612, 0.3719, 0.0141],\n",
            "        [0.9557, 0.8695, 0.2142]])\n",
            "tensor([0.6289, 0.9098, 0.6283, 0.0612, 0.9557])\n"
          ]
        }
      ]
    },
    {
      "cell_type": "code",
      "source": [
        "print(x) #all columns and 1st row values only\n",
        "print(x[1,:])"
      ],
      "metadata": {
        "colab": {
          "base_uri": "https://localhost:8080/"
        },
        "id": "UNkjuJ3eXybW",
        "outputId": "2a21d3d3-476e-4b1b-97bc-0091e1e9f8c2"
      },
      "execution_count": 5,
      "outputs": [
        {
          "output_type": "stream",
          "name": "stdout",
          "text": [
            "tensor([[0.6289, 0.5163, 0.4372],\n",
            "        [0.9098, 0.2220, 0.8335],\n",
            "        [0.6283, 0.8015, 0.4811],\n",
            "        [0.0612, 0.3719, 0.0141],\n",
            "        [0.9557, 0.8695, 0.2142]])\n",
            "tensor([0.9098, 0.2220, 0.8335])\n"
          ]
        }
      ]
    },
    {
      "cell_type": "code",
      "source": [
        "#to get the acutal value.[full value]\n",
        "print(x[2,2].item())"
      ],
      "metadata": {
        "colab": {
          "base_uri": "https://localhost:8080/"
        },
        "id": "7QgoqpsiYHTA",
        "outputId": "a4eaf7a6-6c89-47ae-8b66-0070ff30b5b1"
      },
      "execution_count": 6,
      "outputs": [
        {
          "output_type": "stream",
          "name": "stdout",
          "text": [
            "0.48107820749282837\n"
          ]
        }
      ]
    },
    {
      "cell_type": "markdown",
      "source": [
        "# Reshape"
      ],
      "metadata": {
        "id": "OvPMKeZMw8nn"
      }
    },
    {
      "cell_type": "code",
      "source": [
        " x=torch.rand(4,4)\n",
        " print(x)\n",
        " y=x.view(16)\n",
        " print(y)\n",
        " print(y.size())"
      ],
      "metadata": {
        "colab": {
          "base_uri": "https://localhost:8080/"
        },
        "id": "sh-IfjG7YctY",
        "outputId": "e7979d13-f1b5-46fd-8e2f-8cc2c4ab2dcd"
      },
      "execution_count": 44,
      "outputs": [
        {
          "output_type": "stream",
          "name": "stdout",
          "text": [
            "tensor([[0.8836, 0.7376, 0.0437, 0.6619],\n",
            "        [0.9096, 0.1866, 0.9182, 0.3263],\n",
            "        [0.7443, 0.5855, 0.4294, 0.8889],\n",
            "        [0.6445, 0.4999, 0.4045, 0.4347]])\n",
            "tensor([0.8836, 0.7376, 0.0437, 0.6619, 0.9096, 0.1866, 0.9182, 0.3263, 0.7443,\n",
            "        0.5855, 0.4294, 0.8889, 0.6445, 0.4999, 0.4045, 0.4347])\n",
            "torch.Size([16])\n"
          ]
        }
      ]
    },
    {
      "cell_type": "code",
      "source": [
        "# you can add -1, to let pytorch determine the size based on the given one vlaue\n",
        "y=x.view(-1,8)\n",
        "print(y)\n",
        "print(y.size())"
      ],
      "metadata": {
        "colab": {
          "base_uri": "https://localhost:8080/"
        },
        "id": "bDjAasc0aFys",
        "outputId": "52bb969f-ac61-4e1b-f3e6-6d03bc7fa13f"
      },
      "execution_count": 12,
      "outputs": [
        {
          "output_type": "stream",
          "name": "stdout",
          "text": [
            "tensor([[0.0304, 0.5963, 0.0673, 0.4444, 0.0438, 0.2415, 0.4311, 0.9283],\n",
            "        [0.2735, 0.6668, 0.5814, 0.5218, 0.6363, 0.8757, 0.4805, 0.0964]])\n",
            "torch.Size([2, 8])\n"
          ]
        }
      ]
    },
    {
      "cell_type": "markdown",
      "source": [
        "# Numpy to torch tensor"
      ],
      "metadata": {
        "id": "5kW3aeqLadeT"
      }
    },
    {
      "cell_type": "code",
      "source": [
        "import numpy as np\n",
        "a= torch.ones(5)\n",
        "print(a)\n",
        "b=a.numpy()\n",
        "print(b)\n",
        "print(type(b))"
      ],
      "metadata": {
        "colab": {
          "base_uri": "https://localhost:8080/"
        },
        "id": "iMX1fvtXaWLR",
        "outputId": "5c814961-11dc-4cbd-8b70-87ba8752d98d"
      },
      "execution_count": 17,
      "outputs": [
        {
          "output_type": "stream",
          "name": "stdout",
          "text": [
            "tensor([1., 1., 1., 1., 1.])\n",
            "[1. 1. 1. 1. 1.]\n",
            "<class 'numpy.ndarray'>\n"
          ]
        }
      ]
    },
    {
      "cell_type": "markdown",
      "source": [
        "#### if the tensor is in cpu, and we modify in gpu; then it also changes in the cpu as both GPU and CPU share the same memory"
      ],
      "metadata": {
        "id": "W3IdavJRbbyu"
      }
    },
    {
      "cell_type": "code",
      "source": [
        "a.add_(1)\n",
        "print(a) # you can see how b is also changed\n",
        "print(b)"
      ],
      "metadata": {
        "colab": {
          "base_uri": "https://localhost:8080/"
        },
        "id": "Bj3T5wERbMJv",
        "outputId": "900114c3-a4cf-40a5-829b-61ad1773d225"
      },
      "execution_count": 19,
      "outputs": [
        {
          "output_type": "stream",
          "name": "stdout",
          "text": [
            "tensor([3., 3., 3., 3., 3.])\n",
            "[3. 3. 3. 3. 3.]\n"
          ]
        }
      ]
    },
    {
      "cell_type": "code",
      "source": [
        "a= np.ones(5)\n",
        "print(a)\n",
        "b=torch.from_numpy(a)\n",
        "print(b)"
      ],
      "metadata": {
        "colab": {
          "base_uri": "https://localhost:8080/"
        },
        "id": "C7UwlB-UbwiJ",
        "outputId": "a9fc12f7-e06e-41a7-ba8f-3c618fc928bf"
      },
      "execution_count": 20,
      "outputs": [
        {
          "output_type": "stream",
          "name": "stdout",
          "text": [
            "[1. 1. 1. 1. 1.]\n",
            "tensor([1., 1., 1., 1., 1.], dtype=torch.float64)\n"
          ]
        }
      ]
    },
    {
      "cell_type": "markdown",
      "source": [
        "#### we cannot convert gpu tensor to numpy"
      ],
      "metadata": {
        "id": "-WYzJbsKckKz"
      }
    },
    {
      "cell_type": "markdown",
      "source": [
        "# Gradients"
      ],
      "metadata": {
        "id": "iutKfudefcN8"
      }
    },
    {
      "cell_type": "markdown",
      "source": [],
      "metadata": {
        "id": "eM1jexDNl8Yd"
      }
    },
    {
      "cell_type": "code",
      "source": [
        "x = torch.randn(5, requires_grad=True)\n",
        "print(x)"
      ],
      "metadata": {
        "colab": {
          "base_uri": "https://localhost:8080/"
        },
        "id": "3x_ywMf4cDNi",
        "outputId": "51bf26fe-810a-4b2d-e1c1-6c2d94a357ae"
      },
      "execution_count": 24,
      "outputs": [
        {
          "output_type": "stream",
          "name": "stdout",
          "text": [
            "tensor([-0.9819, -0.8400, -0.6683,  0.7174,  1.2650], requires_grad=True)\n"
          ]
        }
      ]
    },
    {
      "cell_type": "code",
      "source": [
        "y = x+2\n",
        "print(y)"
      ],
      "metadata": {
        "colab": {
          "base_uri": "https://localhost:8080/"
        },
        "id": "fXqom-nHm8vz",
        "outputId": "1f489763-9a45-4673-9fb7-a71052ad5368"
      },
      "execution_count": 25,
      "outputs": [
        {
          "output_type": "stream",
          "name": "stdout",
          "text": [
            "tensor([1.0181, 1.1600, 1.3317, 2.7174, 3.2650], grad_fn=<AddBackward0>)\n"
          ]
        }
      ]
    },
    {
      "cell_type": "code",
      "source": [
        "z = y*y*2\n",
        "print(z)"
      ],
      "metadata": {
        "colab": {
          "base_uri": "https://localhost:8080/"
        },
        "id": "hku_mqOYm_RD",
        "outputId": "33e0e5bc-18e7-4700-84a9-5dd232f5d926"
      },
      "execution_count": 26,
      "outputs": [
        {
          "output_type": "stream",
          "name": "stdout",
          "text": [
            "tensor([ 2.0732,  2.6913,  3.5471, 14.7685, 21.3207], grad_fn=<MulBackward0>)\n"
          ]
        }
      ]
    },
    {
      "cell_type": "code",
      "source": [
        "z = z.mean()\n",
        "print(z)"
      ],
      "metadata": {
        "colab": {
          "base_uri": "https://localhost:8080/"
        },
        "id": "onP9FAUFnNf3",
        "outputId": "d8417246-3910-4c5d-96ed-04f5bf626863"
      },
      "execution_count": 28,
      "outputs": [
        {
          "output_type": "stream",
          "name": "stdout",
          "text": [
            "tensor(8.8801, grad_fn=<MeanBackward0>)\n"
          ]
        }
      ]
    },
    {
      "cell_type": "markdown",
      "source": [
        "## ADD PICTURE"
      ],
      "metadata": {
        "id": "66e0xIz6rHkI"
      }
    },
    {
      "cell_type": "code",
      "source": [
        "z.backward() #dz/dx\n",
        "print(x.grad)"
      ],
      "metadata": {
        "colab": {
          "base_uri": "https://localhost:8080/"
        },
        "id": "PKK6G0oqnVWT",
        "outputId": "b26bd36f-d542-4df2-cd6a-bba1172df7f7"
      },
      "execution_count": 29,
      "outputs": [
        {
          "output_type": "stream",
          "name": "stdout",
          "text": [
            "tensor([0.8145, 0.9280, 1.0654, 2.1739, 2.6120])\n"
          ]
        }
      ]
    },
    {
      "cell_type": "markdown",
      "source": [
        "### Updating weights --> this should not be a part of gradient computation\n",
        "\n",
        "### preventing treking gradients\n"
      ],
      "metadata": {
        "id": "UJkXeldStVIe"
      }
    },
    {
      "cell_type": "code",
      "source": [
        "x = torch.randn(5, requires_grad=True)\n",
        "print(x)\n",
        "#method-1\n",
        "# x.requires_grad_(False)\n",
        "# print(x)\n",
        "\n",
        "#method-2:\n",
        "# y= x.detach()\n",
        "# print(y)\n",
        "\n",
        "#method-3:\n",
        "\n",
        "with torch.no_grad():\n",
        "  y=x+2\n",
        "  print(y)"
      ],
      "metadata": {
        "colab": {
          "base_uri": "https://localhost:8080/"
        },
        "id": "YgyEjwuMnlJi",
        "outputId": "220cc884-3c19-4b82-f143-574c67b3538b"
      },
      "execution_count": 32,
      "outputs": [
        {
          "output_type": "stream",
          "name": "stdout",
          "text": [
            "tensor([-1.0491, -0.0724,  0.5296,  0.0088,  0.5517], requires_grad=True)\n",
            "tensor([0.9509, 1.9276, 2.5296, 2.0088, 2.5517])\n"
          ]
        }
      ]
    },
    {
      "cell_type": "markdown",
      "source": [
        "## dummy training"
      ],
      "metadata": {
        "id": "d489sGh1uqsD"
      }
    },
    {
      "cell_type": "code",
      "source": [
        "weights = torch.ones(4,requires_grad=True)\n",
        "\n",
        "for epoch in range(3):\n",
        "  model_output = (weights*3).sum()\n",
        "  model_output.backward()\n",
        "  print(weights.grad)\n",
        "\n",
        "  weights.grad.zero_() # to avoid accumulation of gradients\n"
      ],
      "metadata": {
        "colab": {
          "base_uri": "https://localhost:8080/"
        },
        "id": "CtT3BHDqu8xk",
        "outputId": "a9c3e01a-a2fa-4814-d1fd-a81d0594a72f"
      },
      "execution_count": 37,
      "outputs": [
        {
          "output_type": "stream",
          "name": "stdout",
          "text": [
            "tensor([3., 3., 3., 3.])\n",
            "tensor([3., 3., 3., 3.])\n",
            "tensor([3., 3., 3., 3.])\n"
          ]
        }
      ]
    },
    {
      "cell_type": "markdown",
      "source": [
        "## optimizer / optimization\n"
      ],
      "metadata": {
        "id": "Xh_4MfUZvSm8"
      }
    },
    {
      "cell_type": "code",
      "source": [
        "weights = torch.ones(4,requires_grad=True)\n",
        "#SGD --> Stochastic gradient descent\n",
        "optimizer = torch.optim.SGD([weights], lr=0.01)\n",
        "optimizer.step()\n",
        "optimizer.zero_grad()\n",
        "print(optimizer)\n"
      ],
      "metadata": {
        "colab": {
          "base_uri": "https://localhost:8080/"
        },
        "id": "rY6EHLeOvBGy",
        "outputId": "8450db52-bb18-4849-c81c-f59727b240a0"
      },
      "execution_count": 43,
      "outputs": [
        {
          "output_type": "stream",
          "name": "stdout",
          "text": [
            "SGD (\n",
            "Parameter Group 0\n",
            "    dampening: 0\n",
            "    differentiable: False\n",
            "    foreach: None\n",
            "    fused: None\n",
            "    lr: 0.01\n",
            "    maximize: False\n",
            "    momentum: 0\n",
            "    nesterov: False\n",
            "    weight_decay: 0\n",
            ")\n"
          ]
        }
      ]
    },
    {
      "cell_type": "markdown",
      "source": [
        "# Backpropagation"
      ],
      "metadata": {
        "id": "TcvlHMsrwbYl"
      }
    },
    {
      "cell_type": "code",
      "source": [],
      "metadata": {
        "id": "StOTSE86vsLA"
      },
      "execution_count": null,
      "outputs": []
    }
  ]
}