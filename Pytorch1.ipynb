{
  "nbformat": 4,
  "nbformat_minor": 0,
  "metadata": {
    "colab": {
      "provenance": [],
      "authorship_tag": "ABX9TyP1qWsc/AE55m+dHbGsMm4m",
      "include_colab_link": true
    },
    "kernelspec": {
      "name": "python3",
      "display_name": "Python 3"
    },
    "language_info": {
      "name": "python"
    }
  },
  "cells": [
    {
      "cell_type": "markdown",
      "metadata": {
        "id": "view-in-github",
        "colab_type": "text"
      },
      "source": [
        "<a href=\"https://colab.research.google.com/github/NandiniLReddy/Pytorch/blob/main/Pytorch1.ipynb\" target=\"_parent\"><img src=\"https://colab.research.google.com/assets/colab-badge.svg\" alt=\"Open In Colab\"/></a>"
      ]
    },
    {
      "cell_type": "markdown",
      "source": [
        "# PyTorch Basics By Nandini Lokesh Reddy"
      ],
      "metadata": {
        "id": "iS91_xVoU302"
      }
    },
    {
      "cell_type": "code",
      "source": [
        "from google.colab import drive\n",
        "drive.mount('/content/drive')"
      ],
      "metadata": {
        "colab": {
          "base_uri": "https://localhost:8080/"
        },
        "id": "5r3X6G8ch1UT",
        "outputId": "743eb374-fe80-4069-e9b8-06013a5d9197"
      },
      "execution_count": 21,
      "outputs": [
        {
          "output_type": "stream",
          "name": "stdout",
          "text": [
            "Mounted at /content/drive\n"
          ]
        }
      ]
    },
    {
      "cell_type": "code",
      "source": [
        "import torch"
      ],
      "metadata": {
        "id": "41BqJVxnWzGb"
      },
      "execution_count": null,
      "outputs": []
    },
    {
      "cell_type": "code",
      "source": [
        "torch.cuda.is_available()"
      ],
      "metadata": {
        "colab": {
          "base_uri": "https://localhost:8080/"
        },
        "id": "o3D3_jRnU2X_",
        "outputId": "c4776eaa-7816-430b-a495-b6f6b22721aa"
      },
      "execution_count": null,
      "outputs": [
        {
          "output_type": "execute_result",
          "data": {
            "text/plain": [
              "False"
            ]
          },
          "metadata": {},
          "execution_count": 15
        }
      ]
    },
    {
      "cell_type": "code",
      "source": [],
      "metadata": {
        "id": "iN0ChDChi1Y6"
      },
      "execution_count": null,
      "outputs": []
    },
    {
      "cell_type": "markdown",
      "source": [
        "## creating a empty tensor"
      ],
      "metadata": {
        "id": "Mv0XxZdTVcch"
      }
    },
    {
      "cell_type": "markdown",
      "source": [
        "## Scalar"
      ],
      "metadata": {
        "id": "bN-s2i-9WNkQ"
      }
    },
    {
      "cell_type": "code",
      "source": [
        "x1 = torch.empty(1) # 1 is the size, here 1 can be a scalar value"
      ],
      "metadata": {
        "id": "NkRlMWr9VNIE"
      },
      "execution_count": null,
      "outputs": []
    },
    {
      "cell_type": "code",
      "source": [
        "print(x1) #output is the size allocated"
      ],
      "metadata": {
        "colab": {
          "base_uri": "https://localhost:8080/"
        },
        "id": "R2bw4nNaVg6T",
        "outputId": "f5ebab58-071c-4569-afc6-aaa35cd39e46"
      },
      "execution_count": null,
      "outputs": [
        {
          "output_type": "stream",
          "name": "stdout",
          "text": [
            "tensor([-120.3074])\n"
          ]
        }
      ]
    },
    {
      "cell_type": "markdown",
      "source": [
        "## Vector"
      ],
      "metadata": {
        "id": "-pRKUI2iWP6A"
      }
    },
    {
      "cell_type": "code",
      "source": [
        "x2 = torch.empty(3) # 3 is the size, here 3 is 1D vector  [,,]"
      ],
      "metadata": {
        "id": "P_5cXQ2VVof1"
      },
      "execution_count": null,
      "outputs": []
    },
    {
      "cell_type": "code",
      "source": [
        "print(x2)"
      ],
      "metadata": {
        "colab": {
          "base_uri": "https://localhost:8080/"
        },
        "id": "I1OTTk4sV1ou",
        "outputId": "164a70fd-7f76-4475-e57a-f2c8eed004fe"
      },
      "execution_count": null,
      "outputs": [
        {
          "output_type": "stream",
          "name": "stdout",
          "text": [
            "tensor([-1.2031e+02,  4.4518e-41, -3.3191e-17])\n"
          ]
        }
      ]
    },
    {
      "cell_type": "markdown",
      "source": [
        "## Matrix\n",
        "\n",
        "2D, 3D, ............. Multi-Dimentional"
      ],
      "metadata": {
        "id": "KHHb_TY8WRYo"
      }
    },
    {
      "cell_type": "code",
      "source": [
        "x3 = torch.empty(2,3) #(2,3) is the 2D matrix"
      ],
      "metadata": {
        "id": "ZcMl4sz9V3C-"
      },
      "execution_count": null,
      "outputs": []
    },
    {
      "cell_type": "code",
      "source": [
        "print(x3)"
      ],
      "metadata": {
        "colab": {
          "base_uri": "https://localhost:8080/"
        },
        "id": "kg9wxT5qWJpA",
        "outputId": "2ca61e65-7f4b-4e5d-96b6-e7ba883460c4"
      },
      "execution_count": null,
      "outputs": [
        {
          "output_type": "stream",
          "name": "stdout",
          "text": [
            "tensor([[-7.7054e+05,  3.1149e-41,  0.0000e+00],\n",
            "        [ 1.1755e-38, -3.9553e-20,  3.1142e-41]])\n"
          ]
        }
      ]
    },
    {
      "cell_type": "code",
      "source": [
        "x4 = torch.empty(2,4,3) #(2,4,3) is the 3D matrix"
      ],
      "metadata": {
        "id": "l9C5On2zWLxX"
      },
      "execution_count": null,
      "outputs": []
    },
    {
      "cell_type": "code",
      "source": [
        "print(x4)"
      ],
      "metadata": {
        "colab": {
          "base_uri": "https://localhost:8080/"
        },
        "id": "W3yt0qVpWbrA",
        "outputId": "b0b9af7b-9888-41fe-9b74-26f1b96045ac"
      },
      "execution_count": null,
      "outputs": [
        {
          "output_type": "stream",
          "name": "stdout",
          "text": [
            "tensor([[[-6.5884e+05,  3.1149e-41,  1.4013e-45],\n",
            "         [ 0.0000e+00,  0.0000e+00,  0.0000e+00],\n",
            "         [ 1.4013e-45,  0.0000e+00,  1.4013e-45],\n",
            "         [ 0.0000e+00,  1.4013e-45,  0.0000e+00]],\n",
            "\n",
            "        [[ 1.3452e-43,  0.0000e+00,  1.1210e-43],\n",
            "         [ 0.0000e+00, -7.8569e+05,  3.1149e-41],\n",
            "         [ 0.0000e+00,  0.0000e+00,  0.0000e+00],\n",
            "         [ 0.0000e+00,  0.0000e+00,  0.0000e+00]]])\n"
          ]
        }
      ]
    },
    {
      "cell_type": "markdown",
      "source": [
        "## creating a tensor with random values"
      ],
      "metadata": {
        "id": "0tnXUu8oW1dS"
      }
    },
    {
      "cell_type": "code",
      "source": [
        "r1=torch.rand(3)\n",
        "print(r1)"
      ],
      "metadata": {
        "colab": {
          "base_uri": "https://localhost:8080/"
        },
        "id": "qXUvQBKSWdCQ",
        "outputId": "44acc960-51db-4d68-f156-803d4ed20de5"
      },
      "execution_count": null,
      "outputs": [
        {
          "output_type": "stream",
          "name": "stdout",
          "text": [
            "tensor([0.8963, 0.3423, 0.7835])\n"
          ]
        }
      ]
    },
    {
      "cell_type": "code",
      "source": [
        "r2=torch.rand(2,3)\n",
        "print(r2)"
      ],
      "metadata": {
        "colab": {
          "base_uri": "https://localhost:8080/"
        },
        "id": "2uc0fR3nW8JD",
        "outputId": "c3f7dcb1-6f04-4a16-b2d9-9e8cb4f5b40c"
      },
      "execution_count": null,
      "outputs": [
        {
          "output_type": "stream",
          "name": "stdout",
          "text": [
            "tensor([[0.2328, 0.3284, 0.6247],\n",
            "        [0.0986, 0.0164, 0.4179]])\n"
          ]
        }
      ]
    },
    {
      "cell_type": "markdown",
      "source": [
        "## like numpy we can do certain operations like:"
      ],
      "metadata": {
        "id": "d20O_kqZXPDU"
      }
    },
    {
      "cell_type": "code",
      "source": [
        "z = torch.zeros(2,3)\n",
        "print(z)"
      ],
      "metadata": {
        "colab": {
          "base_uri": "https://localhost:8080/"
        },
        "id": "pIDSmBQHXEqz",
        "outputId": "ebc52e77-e658-49df-8fe5-754853c38d10"
      },
      "execution_count": null,
      "outputs": [
        {
          "output_type": "stream",
          "name": "stdout",
          "text": [
            "tensor([[0., 0., 0.],\n",
            "        [0., 0., 0.]])\n"
          ]
        }
      ]
    },
    {
      "cell_type": "code",
      "source": [
        "z1=torch.ones(2,3)\n",
        "print(z1)"
      ],
      "metadata": {
        "colab": {
          "base_uri": "https://localhost:8080/"
        },
        "id": "ty69KFvXXUrl",
        "outputId": "ce67d406-cedc-43b7-e2f3-6c041edc9c2c"
      },
      "execution_count": null,
      "outputs": [
        {
          "output_type": "stream",
          "name": "stdout",
          "text": [
            "tensor([[1., 1., 1.],\n",
            "        [1., 1., 1.]])\n"
          ]
        }
      ]
    },
    {
      "cell_type": "markdown",
      "source": [
        "## torch datatypes"
      ],
      "metadata": {
        "id": "Fub5ONhHXoXy"
      }
    },
    {
      "cell_type": "code",
      "source": [
        "d1 = torch.rand(3) # default datatype is float32\n",
        "print(d1.dtype)"
      ],
      "metadata": {
        "colab": {
          "base_uri": "https://localhost:8080/"
        },
        "id": "umh-PAl5Xeos",
        "outputId": "6ebcbb99-a09c-4684-d5db-80720299ca90"
      },
      "execution_count": null,
      "outputs": [
        {
          "output_type": "stream",
          "name": "stdout",
          "text": [
            "torch.float32\n"
          ]
        }
      ]
    },
    {
      "cell_type": "code",
      "source": [
        "# we can initalize the dtype required as well\n",
        "d2 =  torch.ones(4, dtype=torch.int)\n",
        "print(d2)"
      ],
      "metadata": {
        "colab": {
          "base_uri": "https://localhost:8080/"
        },
        "id": "djHbmkEDXyXC",
        "outputId": "b786eb09-a1d2-4bfd-dc64-4e75f1deb490"
      },
      "execution_count": null,
      "outputs": [
        {
          "output_type": "stream",
          "name": "stdout",
          "text": [
            "tensor([1, 1, 1, 1], dtype=torch.int32)\n"
          ]
        }
      ]
    },
    {
      "cell_type": "code",
      "source": [
        "#rand is only used for float type\n",
        "\n",
        "d3 = torch.rand(3, dtype=torch.double)\n",
        "print(d3)"
      ],
      "metadata": {
        "colab": {
          "base_uri": "https://localhost:8080/"
        },
        "id": "lwxxYhrtYBU1",
        "outputId": "4e155ec1-8a9e-49de-acfd-d93b0ad155d6"
      },
      "execution_count": null,
      "outputs": [
        {
          "output_type": "stream",
          "name": "stdout",
          "text": [
            "tensor([0.8411, 0.9982, 0.8172], dtype=torch.float64)\n"
          ]
        }
      ]
    },
    {
      "cell_type": "code",
      "source": [
        "# you can use randint for integers\n",
        "d4 = torch.randint(5,10, (2,3))\n",
        "print(d4.dtype)\n",
        "print(d4)"
      ],
      "metadata": {
        "colab": {
          "base_uri": "https://localhost:8080/"
        },
        "id": "4_YEhhE0Ymi1",
        "outputId": "b1fdf77a-afc6-49bc-f10c-e9ef3b0f02da"
      },
      "execution_count": null,
      "outputs": [
        {
          "output_type": "stream",
          "name": "stdout",
          "text": [
            "torch.int64\n",
            "tensor([[7, 6, 5],\n",
            "        [5, 6, 5]])\n"
          ]
        }
      ]
    },
    {
      "cell_type": "code",
      "source": [
        "# we can also create tensors using list\n",
        "\n",
        "l1 = torch.tensor([0.1,0.2])\n",
        "print(l1)"
      ],
      "metadata": {
        "colab": {
          "base_uri": "https://localhost:8080/"
        },
        "id": "Ma0wco7kYveu",
        "outputId": "7b640126-71c0-43bb-a5de-2f6282c954f0"
      },
      "execution_count": null,
      "outputs": [
        {
          "output_type": "stream",
          "name": "stdout",
          "text": [
            "tensor([0.1000, 0.2000])\n"
          ]
        }
      ]
    },
    {
      "cell_type": "markdown",
      "source": [
        "## Basic operations"
      ],
      "metadata": {
        "id": "ct-7rBd0Zq5n"
      }
    },
    {
      "cell_type": "code",
      "source": [
        "a1 = torch.rand(2,2)\n",
        "a2= torch.rand(2,2)\n",
        "add = a1 + a2\n",
        "# add = torch.add(a1,a2) #does the same as '+'\n",
        "print(a1)\n",
        "print(a2)\n",
        "print(add)"
      ],
      "metadata": {
        "colab": {
          "base_uri": "https://localhost:8080/"
        },
        "id": "bsg2R3P_ZYee",
        "outputId": "009b1e53-7edf-4b00-e642-a282fd9ccae0"
      },
      "execution_count": null,
      "outputs": [
        {
          "output_type": "stream",
          "name": "stdout",
          "text": [
            "tensor([[0.5912, 0.8287],\n",
            "        [0.0109, 0.0486]])\n",
            "tensor([[0.7840, 0.2652],\n",
            "        [0.8950, 0.7441]])\n",
            "tensor([[1.3752, 1.0940],\n",
            "        [0.9059, 0.7927]])\n"
          ]
        }
      ]
    },
    {
      "cell_type": "code",
      "source": [
        "#inplace addition\n",
        "a2.add_(a1) #values of a2 will be replaced with the result of addition operation\n",
        "# print(a1)\n",
        "print(a2)"
      ],
      "metadata": {
        "colab": {
          "base_uri": "https://localhost:8080/"
        },
        "id": "2M-inX_8aSEu",
        "outputId": "cf2e9996-eb51-4746-b035-28ef337ddb98"
      },
      "execution_count": null,
      "outputs": [
        {
          "output_type": "stream",
          "name": "stdout",
          "text": [
            "tensor([[2.9708, 0.4933],\n",
            "        [1.9178, 2.7999]])\n"
          ]
        }
      ]
    },
    {
      "cell_type": "markdown",
      "source": [
        "for any function is there is '_' tailing then it is inplace operation"
      ],
      "metadata": {
        "id": "p6SSXrkUctmN"
      }
    },
    {
      "cell_type": "code",
      "source": [
        "sub = torch.sub(a1,a2) #does the same as '+'\n",
        "print(a1)\n",
        "print(a2)\n",
        "print(sub)"
      ],
      "metadata": {
        "colab": {
          "base_uri": "https://localhost:8080/"
        },
        "id": "9kJjQhFCa3Ow",
        "outputId": "db4b519a-3f1d-4d1f-f792-7313d9deb9be"
      },
      "execution_count": null,
      "outputs": [
        {
          "output_type": "stream",
          "name": "stdout",
          "text": [
            "tensor([[0.5912, 0.8287],\n",
            "        [0.0109, 0.0486]])\n",
            "tensor([[0.7840, 0.2652],\n",
            "        [0.8950, 0.7441]])\n",
            "tensor([[-0.1928,  0.5635],\n",
            "        [-0.8841, -0.6955]])\n"
          ]
        }
      ]
    },
    {
      "cell_type": "code",
      "source": [
        "mul = torch.mul(a1,a2)\n",
        "print(a1)\n",
        "print(a2)\n",
        "print(mul)"
      ],
      "metadata": {
        "colab": {
          "base_uri": "https://localhost:8080/"
        },
        "id": "9DzCCJqpdAlV",
        "outputId": "e02e4e4d-102b-488f-a48d-5f97f617ebf9"
      },
      "execution_count": null,
      "outputs": [
        {
          "output_type": "stream",
          "name": "stdout",
          "text": [
            "tensor([[0.5912, 0.8287],\n",
            "        [0.0109, 0.0486]])\n",
            "tensor([[0.7840, 0.2652],\n",
            "        [0.8950, 0.7441]])\n",
            "tensor([[0.4635, 0.2198],\n",
            "        [0.0097, 0.0362]])\n"
          ]
        }
      ]
    },
    {
      "cell_type": "code",
      "source": [
        "div = torch.div(a1,a2)\n",
        "print(a1)\n",
        "print(a2)\n",
        "print(div)"
      ],
      "metadata": {
        "colab": {
          "base_uri": "https://localhost:8080/"
        },
        "id": "tQlHgcQzdNuU",
        "outputId": "81f771c5-8172-4c5d-b078-18265850b097"
      },
      "execution_count": null,
      "outputs": [
        {
          "output_type": "stream",
          "name": "stdout",
          "text": [
            "tensor([[0.5912, 0.8287],\n",
            "        [0.0109, 0.0486]])\n",
            "tensor([[0.7840, 0.2652],\n",
            "        [0.8950, 0.7441]])\n",
            "tensor([[0.7541, 3.1248],\n",
            "        [0.0122, 0.0653]])\n"
          ]
        }
      ]
    },
    {
      "cell_type": "markdown",
      "source": [
        "## Slicing"
      ],
      "metadata": {
        "id": "ZL_RlalQdfMs"
      }
    },
    {
      "cell_type": "code",
      "source": [
        "import torch\n",
        "x=torch.rand(5,3) #all rows and 0th colum values only\n",
        "print(x)\n",
        "print(x[:,0])"
      ],
      "metadata": {
        "id": "1vzxAK3CdZ3E",
        "colab": {
          "base_uri": "https://localhost:8080/"
        },
        "outputId": "542e1bd2-deb2-4ff6-d9de-7eeab9ef6ba8"
      },
      "execution_count": 3,
      "outputs": [
        {
          "output_type": "stream",
          "name": "stdout",
          "text": [
            "tensor([[0.6289, 0.5163, 0.4372],\n",
            "        [0.9098, 0.2220, 0.8335],\n",
            "        [0.6283, 0.8015, 0.4811],\n",
            "        [0.0612, 0.3719, 0.0141],\n",
            "        [0.9557, 0.8695, 0.2142]])\n",
            "tensor([0.6289, 0.9098, 0.6283, 0.0612, 0.9557])\n"
          ]
        }
      ]
    },
    {
      "cell_type": "code",
      "source": [
        "print(x) #all columns and 1st row values only\n",
        "print(x[1,:])"
      ],
      "metadata": {
        "colab": {
          "base_uri": "https://localhost:8080/"
        },
        "id": "UNkjuJ3eXybW",
        "outputId": "2a21d3d3-476e-4b1b-97bc-0091e1e9f8c2"
      },
      "execution_count": 5,
      "outputs": [
        {
          "output_type": "stream",
          "name": "stdout",
          "text": [
            "tensor([[0.6289, 0.5163, 0.4372],\n",
            "        [0.9098, 0.2220, 0.8335],\n",
            "        [0.6283, 0.8015, 0.4811],\n",
            "        [0.0612, 0.3719, 0.0141],\n",
            "        [0.9557, 0.8695, 0.2142]])\n",
            "tensor([0.9098, 0.2220, 0.8335])\n"
          ]
        }
      ]
    },
    {
      "cell_type": "code",
      "source": [
        "#to get the acutal value.[full value]\n",
        "print(x[2,2].item())"
      ],
      "metadata": {
        "colab": {
          "base_uri": "https://localhost:8080/"
        },
        "id": "7QgoqpsiYHTA",
        "outputId": "a4eaf7a6-6c89-47ae-8b66-0070ff30b5b1"
      },
      "execution_count": 6,
      "outputs": [
        {
          "output_type": "stream",
          "name": "stdout",
          "text": [
            "0.48107820749282837\n"
          ]
        }
      ]
    },
    {
      "cell_type": "markdown",
      "source": [
        "# Reshape"
      ],
      "metadata": {
        "id": "rnbgp5YHYjwx"
      }
    },
    {
      "cell_type": "code",
      "source": [
        " x=torch.rand(4,4)\n",
        " print(x)\n",
        " y=x.view(16)\n",
        " print(y)\n",
        " print(y.size())"
      ],
      "metadata": {
        "colab": {
          "base_uri": "https://localhost:8080/"
        },
        "id": "sh-IfjG7YctY",
        "outputId": "6378bb68-4363-4d5b-dacc-b35ba44c3de3"
      },
      "execution_count": 9,
      "outputs": [
        {
          "output_type": "stream",
          "name": "stdout",
          "text": [
            "tensor([[0.0304, 0.5963, 0.0673, 0.4444],\n",
            "        [0.0438, 0.2415, 0.4311, 0.9283],\n",
            "        [0.2735, 0.6668, 0.5814, 0.5218],\n",
            "        [0.6363, 0.8757, 0.4805, 0.0964]])\n",
            "tensor([0.0304, 0.5963, 0.0673, 0.4444, 0.0438, 0.2415, 0.4311, 0.9283, 0.2735,\n",
            "        0.6668, 0.5814, 0.5218, 0.6363, 0.8757, 0.4805, 0.0964])\n",
            "torch.Size([16])\n"
          ]
        }
      ]
    },
    {
      "cell_type": "code",
      "source": [
        "# you can add -1, to let pytorch determine the size based on the given one vlaue\n",
        "y=x.view(-1,8)\n",
        "print(y)\n",
        "print(y.size())"
      ],
      "metadata": {
        "colab": {
          "base_uri": "https://localhost:8080/"
        },
        "id": "bDjAasc0aFys",
        "outputId": "52bb969f-ac61-4e1b-f3e6-6d03bc7fa13f"
      },
      "execution_count": 12,
      "outputs": [
        {
          "output_type": "stream",
          "name": "stdout",
          "text": [
            "tensor([[0.0304, 0.5963, 0.0673, 0.4444, 0.0438, 0.2415, 0.4311, 0.9283],\n",
            "        [0.2735, 0.6668, 0.5814, 0.5218, 0.6363, 0.8757, 0.4805, 0.0964]])\n",
            "torch.Size([2, 8])\n"
          ]
        }
      ]
    },
    {
      "cell_type": "markdown",
      "source": [
        "# Numpy to torch tensor"
      ],
      "metadata": {
        "id": "5kW3aeqLadeT"
      }
    },
    {
      "cell_type": "code",
      "source": [
        "import numpy as np\n",
        "a= torch.ones(5)\n",
        "print(a)\n",
        "b=a.numpy()\n",
        "print(b)\n",
        "print(type(b))"
      ],
      "metadata": {
        "colab": {
          "base_uri": "https://localhost:8080/"
        },
        "id": "iMX1fvtXaWLR",
        "outputId": "5c814961-11dc-4cbd-8b70-87ba8752d98d"
      },
      "execution_count": 17,
      "outputs": [
        {
          "output_type": "stream",
          "name": "stdout",
          "text": [
            "tensor([1., 1., 1., 1., 1.])\n",
            "[1. 1. 1. 1. 1.]\n",
            "<class 'numpy.ndarray'>\n"
          ]
        }
      ]
    },
    {
      "cell_type": "markdown",
      "source": [
        "#### if the tensor is in cpu, and we modify in gpu; then it also changes in the cpu as both GPU and CPU share the same memory"
      ],
      "metadata": {
        "id": "W3IdavJRbbyu"
      }
    },
    {
      "cell_type": "code",
      "source": [
        "a.add_(1)\n",
        "print(a) # you can see how b is also changed\n",
        "print(b)"
      ],
      "metadata": {
        "colab": {
          "base_uri": "https://localhost:8080/"
        },
        "id": "Bj3T5wERbMJv",
        "outputId": "900114c3-a4cf-40a5-829b-61ad1773d225"
      },
      "execution_count": 19,
      "outputs": [
        {
          "output_type": "stream",
          "name": "stdout",
          "text": [
            "tensor([3., 3., 3., 3., 3.])\n",
            "[3. 3. 3. 3. 3.]\n"
          ]
        }
      ]
    },
    {
      "cell_type": "code",
      "source": [
        "a= np.ones(5)\n",
        "print(a)\n",
        "b=torch.from_numpy(a)\n",
        "print(b)"
      ],
      "metadata": {
        "colab": {
          "base_uri": "https://localhost:8080/"
        },
        "id": "C7UwlB-UbwiJ",
        "outputId": "a9fc12f7-e06e-41a7-ba8f-3c618fc928bf"
      },
      "execution_count": 20,
      "outputs": [
        {
          "output_type": "stream",
          "name": "stdout",
          "text": [
            "[1. 1. 1. 1. 1.]\n",
            "tensor([1., 1., 1., 1., 1.], dtype=torch.float64)\n"
          ]
        }
      ]
    },
    {
      "cell_type": "markdown",
      "source": [
        "#### we cannot convert gpu tensor to numpy"
      ],
      "metadata": {
        "id": "-WYzJbsKckKz"
      }
    },
    {
      "cell_type": "markdown",
      "source": [
        "# Gradients"
      ],
      "metadata": {
        "id": "iutKfudefcN8"
      }
    },
    {
      "cell_type": "code",
      "source": [
        ""
      ],
      "metadata": {
        "id": "3x_ywMf4cDNi"
      },
      "execution_count": null,
      "outputs": []
    }
  ]
}